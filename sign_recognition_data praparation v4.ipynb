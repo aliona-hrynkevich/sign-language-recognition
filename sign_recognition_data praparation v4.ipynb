{
 "cells": [
  {
   "cell_type": "code",
   "execution_count": 16,
   "metadata": {},
   "outputs": [],
   "source": [
    "import os\n",
    "import cv2\n",
    "import pandas as pd\n",
    "from tqdm import tqdm\n",
    "from glob import glob\n",
    "import matplotlib.pyplot as plt\n",
    "import numpy as np\n",
    "import warnings\n",
    "warnings.filterwarnings('ignore')\n",
    "from sklearn.model_selection import train_test_split\n",
    "from PIL import Image\n",
    "import copy"
   ]
  },
  {
   "cell_type": "code",
   "execution_count": 17,
   "metadata": {},
   "outputs": [
    {
     "data": {
      "text/html": [
       "<div>\n",
       "<style scoped>\n",
       "    .dataframe tbody tr th:only-of-type {\n",
       "        vertical-align: middle;\n",
       "    }\n",
       "\n",
       "    .dataframe tbody tr th {\n",
       "        vertical-align: top;\n",
       "    }\n",
       "\n",
       "    .dataframe thead th {\n",
       "        text-align: right;\n",
       "    }\n",
       "</style>\n",
       "<table border=\"1\" class=\"dataframe\">\n",
       "  <thead>\n",
       "    <tr style=\"text-align: right;\">\n",
       "      <th></th>\n",
       "      <th>attachment_id</th>\n",
       "      <th>text</th>\n",
       "      <th>user_id</th>\n",
       "      <th>height</th>\n",
       "      <th>width</th>\n",
       "      <th>length</th>\n",
       "      <th>train</th>\n",
       "    </tr>\n",
       "  </thead>\n",
       "  <tbody>\n",
       "    <tr>\n",
       "      <th>0</th>\n",
       "      <td>44e8d2a0-7e01-450b-90b0-beb7400d2c1e</td>\n",
       "      <td>Ё</td>\n",
       "      <td>185bd3a81d9d618518d10abebf0d17a8</td>\n",
       "      <td>1920</td>\n",
       "      <td>1080</td>\n",
       "      <td>76.0</td>\n",
       "      <td>True</td>\n",
       "    </tr>\n",
       "    <tr>\n",
       "      <th>1</th>\n",
       "      <td>df5b08f0-41d1-4572-889c-8b893e71069b</td>\n",
       "      <td>А</td>\n",
       "      <td>185bd3a81d9d618518d10abebf0d17a8</td>\n",
       "      <td>1920</td>\n",
       "      <td>1080</td>\n",
       "      <td>40.0</td>\n",
       "      <td>True</td>\n",
       "    </tr>\n",
       "    <tr>\n",
       "      <th>2</th>\n",
       "      <td>17f53df4-c467-4aff-9f48-20687b63d49a</td>\n",
       "      <td>Р</td>\n",
       "      <td>185bd3a81d9d618518d10abebf0d17a8</td>\n",
       "      <td>1920</td>\n",
       "      <td>1080</td>\n",
       "      <td>57.0</td>\n",
       "      <td>True</td>\n",
       "    </tr>\n",
       "    <tr>\n",
       "      <th>3</th>\n",
       "      <td>e3add916-c708-4339-ad98-7e2740be29e9</td>\n",
       "      <td>Е</td>\n",
       "      <td>185bd3a81d9d618518d10abebf0d17a8</td>\n",
       "      <td>1920</td>\n",
       "      <td>1080</td>\n",
       "      <td>64.0</td>\n",
       "      <td>True</td>\n",
       "    </tr>\n",
       "    <tr>\n",
       "      <th>4</th>\n",
       "      <td>bd7272ed-1850-48f1-a2a8-c8fed523dc37</td>\n",
       "      <td>Ч</td>\n",
       "      <td>185bd3a81d9d618518d10abebf0d17a8</td>\n",
       "      <td>1920</td>\n",
       "      <td>1080</td>\n",
       "      <td>84.0</td>\n",
       "      <td>True</td>\n",
       "    </tr>\n",
       "    <tr>\n",
       "      <th>...</th>\n",
       "      <td>...</td>\n",
       "      <td>...</td>\n",
       "      <td>...</td>\n",
       "      <td>...</td>\n",
       "      <td>...</td>\n",
       "      <td>...</td>\n",
       "      <td>...</td>\n",
       "    </tr>\n",
       "    <tr>\n",
       "      <th>20395</th>\n",
       "      <td>nodca88242-2bc7-4a77-9d14-103aa1dacbd6</td>\n",
       "      <td>no_event</td>\n",
       "      <td>0041ec866777f12c384b64d8cd636277</td>\n",
       "      <td>1920</td>\n",
       "      <td>1080</td>\n",
       "      <td>42.0</td>\n",
       "      <td>False</td>\n",
       "    </tr>\n",
       "    <tr>\n",
       "      <th>20396</th>\n",
       "      <td>no7a7812b1-ae64-4402-9ebc-5b947edbd021</td>\n",
       "      <td>no_event</td>\n",
       "      <td>f5b82a9c82f6d870ec253e4c3fa96d83</td>\n",
       "      <td>1280</td>\n",
       "      <td>720</td>\n",
       "      <td>32.0</td>\n",
       "      <td>False</td>\n",
       "    </tr>\n",
       "    <tr>\n",
       "      <th>20397</th>\n",
       "      <td>no62a4df76-b48d-4f61-b6e8-bc4a1eb0cb61</td>\n",
       "      <td>no_event</td>\n",
       "      <td>4299b8ccf39ace57287b463fbe4a489b</td>\n",
       "      <td>1920</td>\n",
       "      <td>960</td>\n",
       "      <td>32.0</td>\n",
       "      <td>False</td>\n",
       "    </tr>\n",
       "    <tr>\n",
       "      <th>20398</th>\n",
       "      <td>no388a3f7c-3594-4332-bc78-b5b53190301d</td>\n",
       "      <td>no_event</td>\n",
       "      <td>c80b4e57f158f28299b2a89694c42329</td>\n",
       "      <td>1920</td>\n",
       "      <td>1080</td>\n",
       "      <td>41.0</td>\n",
       "      <td>False</td>\n",
       "    </tr>\n",
       "    <tr>\n",
       "      <th>20399</th>\n",
       "      <td>no5393ec0c-85a4-4980-a2da-e84259050d83</td>\n",
       "      <td>no_event</td>\n",
       "      <td>30eae85220a3d47b79b9955a08d31d63</td>\n",
       "      <td>1920</td>\n",
       "      <td>1080</td>\n",
       "      <td>32.0</td>\n",
       "      <td>False</td>\n",
       "    </tr>\n",
       "  </tbody>\n",
       "</table>\n",
       "<p>20400 rows × 7 columns</p>\n",
       "</div>"
      ],
      "text/plain": [
       "                                attachment_id      text  \\\n",
       "0        44e8d2a0-7e01-450b-90b0-beb7400d2c1e         Ё   \n",
       "1        df5b08f0-41d1-4572-889c-8b893e71069b         А   \n",
       "2        17f53df4-c467-4aff-9f48-20687b63d49a         Р   \n",
       "3        e3add916-c708-4339-ad98-7e2740be29e9         Е   \n",
       "4        bd7272ed-1850-48f1-a2a8-c8fed523dc37         Ч   \n",
       "...                                       ...       ...   \n",
       "20395  nodca88242-2bc7-4a77-9d14-103aa1dacbd6  no_event   \n",
       "20396  no7a7812b1-ae64-4402-9ebc-5b947edbd021  no_event   \n",
       "20397  no62a4df76-b48d-4f61-b6e8-bc4a1eb0cb61  no_event   \n",
       "20398  no388a3f7c-3594-4332-bc78-b5b53190301d  no_event   \n",
       "20399  no5393ec0c-85a4-4980-a2da-e84259050d83  no_event   \n",
       "\n",
       "                                user_id  height  width  length  train  \n",
       "0      185bd3a81d9d618518d10abebf0d17a8    1920   1080    76.0   True  \n",
       "1      185bd3a81d9d618518d10abebf0d17a8    1920   1080    40.0   True  \n",
       "2      185bd3a81d9d618518d10abebf0d17a8    1920   1080    57.0   True  \n",
       "3      185bd3a81d9d618518d10abebf0d17a8    1920   1080    64.0   True  \n",
       "4      185bd3a81d9d618518d10abebf0d17a8    1920   1080    84.0   True  \n",
       "...                                 ...     ...    ...     ...    ...  \n",
       "20395  0041ec866777f12c384b64d8cd636277    1920   1080    42.0  False  \n",
       "20396  f5b82a9c82f6d870ec253e4c3fa96d83    1280    720    32.0  False  \n",
       "20397  4299b8ccf39ace57287b463fbe4a489b    1920    960    32.0  False  \n",
       "20398  c80b4e57f158f28299b2a89694c42329    1920   1080    41.0  False  \n",
       "20399  30eae85220a3d47b79b9955a08d31d63    1920   1080    32.0  False  \n",
       "\n",
       "[20400 rows x 7 columns]"
      ]
     },
     "execution_count": 17,
     "metadata": {},
     "output_type": "execute_result"
    }
   ],
   "source": [
    "DATA_DIR = 'slovo'\n",
    "TRAIN_DIR = os.path.join(DATA_DIR, 'train')\n",
    "TEST_DIR = os.path.join(DATA_DIR, 'test')\n",
    "ANNOTATIONS_DIR = os.path.join(DATA_DIR, 'annotations')\n",
    "ann = pd.read_csv(os.path.join(DATA_DIR, 'annotations.csv'), sep='\\t')\n",
    "ann"
   ]
  },
  {
   "cell_type": "code",
   "execution_count": 18,
   "metadata": {},
   "outputs": [
    {
     "data": {
      "text/plain": [
       "'Ё, А, Р, Е, Ч, Л, Ц, С, Й, З, Ь, Я, Б, Щ, У, Ы, Д, Ф, Т, Ъ, О, М, П, Х, Э, Н, В, Ю, Ш, Ж, Г, К, И, козел, гнездо, вой, креветка, бегемот, нашествие, лиса, динозавр, перо, крокодил, летучая мышь, дикое животное, попугай, ежик, волк, овца, петух, белка, пингвин, помесь, осел, дятел, воротник, аллигатор, кошка, рога, лошадь, жираф, вол, населять, верблюд, коза, ползанье, бабочка, клюв, собака, кролик, паук, водоплавающее, носорог, мышь, зверь, плавник, паучья сеть, животное, лев, тигр, миграция, копыто, зубы, коготь, рыба, лось, пчела, птица, комар, змея, гавканье, бык, зоопарк, клевать, акула, рычать, панда, крыса, олень, делать выводы, орел, лебедь, рычание, медведь, слон, дельфин, павлин, вилять, собачий домик, домашнее животное, курица, медуза, клетка, свинья, лягушка, голова, корм для домашних животных, корова, обезьяна, соты, крыло, заяц, прирученный, поверхностный, интеллектуальный, застенчивый, добрый, истерик, аниматор, кротость, адаптивный, амбициозный, проныра, скучный, гордый, одаренный, прагматичный, испорченный, нежный, любопытный, гений, рассеянный, непослушный, наивный, острый, вежливый, отличный, смелость, правша, разумный, ленивый, детский, ребяческий, стойкость, уверенный, обычный, миленький, остроумие, послушный, невиновный, опытный, инициатива, тщеславный, доминантный, наблюдательность, сильный, вредный; озорной, неловкий; неуклюжий, верный, особенный, мятежный, жестокий, зрелищный, строгий, злобный, нерадивый, логичный, торжественный, враждебный, получающий удовольствие, потрясающий, доминирующий, жадный, угрюмый, трус, жёсткий, подлинный, милосердный, модный, осторожный, неудобно, недобрый, красивый, жадность, высокомерный, приличный, искренний, аккуратный, лицемерный, положительный, грубый, ответственный, отвратительный, странный, глупый, адаптивное поведение, отрицательный, оживленный, адаптивность, объективный, агрессивный, предусмотрительный, недовольный, мудрый, причинять резкую боль, талант, мужественность, неприятный, смешной, запасливый, милый, трусливо, образованный, веселый, дружелюбный, нахальный, личные качества, беспокоящий, наглость, зло, продуманный, активный, брюзжать, скромный, оранжевый, основной цвет, бледный, тёмный, серебро, нераскрашенный, розовый, цветовой оттенок, прозрачный, оттенок, коричневый, бежевый, непрозрачность, цвет, красноватый, фиолетовый, желтый, темнота, красный, золотой, черный, розовато-лиловый, серый, синий, зелёный, белый, грустный, подавленный, ошеломить, нервный, напряжение, преданный, мурашки, облегчение, ожидать, зависть, жажда, слабый, отношение, отчаяться, печаль, озабоченный, страх, испуганный, напуганный, разрыдаться, злость, отвращение, сочувствие, неудобство, самопроверка, быть потрясенным, доверять, скорбеть, смущенный, желать, вскружить, самоанализ, желание, импульс, презрение, разъяренный, самовосприятие, беспокоиться, возрадоваться, подозревать, терпеть, влюбиться, восхищаться, нравиться, злой, расстроенный, расслабление, жуткий, не выносить, спокойный, гнев, сарказм, отважиться, сожалеть, ленность, расслабиться, интересный, самоосознание, весенняя, ненавидеть, доброта, отчаянный, сомнение, страшный, покаяние, испытывать, счастливый, испуг, предпочитать, дистресс, возбуждение, несчастье, довольный, благодарность, голод, изношенный, счастье, радость, страдать, мотивировать, вдохновлять, непреклонный, рассердиться, жалость, безумно, безразличие, доставлять удовольствие, изможденный, добропорядочность, любовный, позор, забота, горе, влюбленный, рыдать, вздрагивать, самоконтроль, ошарашенный, неверие, одержимый, вдохновение, самообман, наслаждайся, возбужденный, любить, терпение, обнимать, горький, презирать, беспокойство, расстройство, надоело, слабость, покраснеть, голодный, разгневанный, ревнивый, раздражать, смириться, обманчивость, самомнение, жаждущий, возбуждать, надеяться, беспокойный, мотивация, пренебрежение, благоговение, суматоха, горевать, неуважение, сомневаться, нравственность, горюющий, надежда, одинокий, довольство, агрессия, страдание, благополучие, любовь, боль, скучающий, домогаться, разочарованный, дрожать, так себе, стыдно, вина, весёлый, страсть, радостный, объятие, сожаление, обеспокоенный, рвеность, гордость, внутреннее, одновременность, восхищение, поднос, кафе, лить, откупоривать, есть, закуска перед едой, кормить, окунать, бутылка, жевать, вкусный, жадно есть, переваривать, MakDonalds, предложить тост, аллергия на еду, откусывание, ланч, помощник повара, кубок, плата за вход, резервирование; бронирование, аппетит, кафетерий, нежный, мягкий, пир, прием пищи, обедать, кусок; тонкими слоями, пить, кружка, кусать, вилка, делать мелкий глоток, ароматный, банкет, заварочный чайник, глотать, кувшин, ресторан, переваривание, глотать жадно, официант, заказывать, женский туалет, повар, мужской туалет, накрывать на стол, вкус, место для пикника, диета, питьевая вода, Прощание, С днем рождения, Пока, Позвонить на сервис, Привет!, Добро пожаловать!, слово, пока (что), верить, иначе, искать, чемодан, слышать, вред, десять, почва, сто, достаточно, пустой, охотно, значить, собирать, такой, между, карандаш, маленький, готовый, восемь, сказать, восток, иностранный, платить, дочь, неделя, семнадцать, не, двенадцатый, писать, целый, часы, конечно, звук, использовать, быстрый, семья, четверг, мужчина, потом, длинный, отец, ручка, оба, там, тоже, часть, десятый, дом, новости, лежать, еще, медленный, семь, возможный, женщина, рот, муж, жёлтый, среда, хорошо, налог, смеяться, магазин, другой, путешествовать, причина, дешёвый, книга, еда, шесть, направление, идти, комната, вчера, один, срочный, известный, двенадцать, низкий, пятый, везде, мы, двадцать, ноль, должен, почему, девочка, мир, буду, пятьдесят, смотреть, месяц, короткий, необходимый, с, если, полный, важный, без, человек, немного, завтра, большой, всегда, молодой, вниз, стоять, сестра, ночь, билет, плакать, имя, или, свободный, мальчик, говорить, утро, лето, погода, путешествие, обучать, пять, сумка, ребёнок, север, час, очень, место, все, ужасный, держать, одежда, точно, опасный, седьмой, много, второй, различный, тридцать, трудный, два, лучший, одиннадцатый, девятый, быстро, люди, чувствовать, письмо, мочь, друг, назад, шестьдесят, улица, уже, правый, сердце, дорога, высокий, слушать, кроме, цена, восьмой, народ, твердый, мне, тебе, мертвый, твой, сын, девяносто, хлеб, четвертый, сегодня, брат, наконец, постепенно, рука, весна, хороший, тот, шум, вода, следующий, шестнадцать, безопасный, несколько, тысяча, нас, только, воздух, одиннадцать, восемьдесят, последний, картина, газета, сторона, способ, переводить, ждать, особенно, довольно, бумага, вероятно, шестой, обычно, пятница, под, тот же самый (одинаковый), посылать, четырнадцать, с тех пор как, вещь, понять, девятнадцать, читать, невозможный, юг, делать, перед, возможно, понедельник, жизнь, голос, грязный, опять, чистый, три, вопрос, ничего, город, ты, часто, против, их, вечер, ошибка, прибывать, я, это, осень, наш, школа, вторник, здесь, веселиться, глаз, ключ, сзади, старый, первый, дорогой, солнце, что, когда, мой, плохой, четыре, язык, левый, третий, лучше, видеть, скоро, деньги, жена, сверху, худший, суббота, никогда, воскресенье, год, новый, зима, никто, время, работать, восемнадцать, иногда, однажды, кто?, до, пятнадцать, после, семьдесят, минута, Плохо, Даже, Забрать, Лицо, Память, Лопата, Смех, Футбол, Выручить, Соль, Чашка, Подробно, Корона, Рубль, Крест, Цемент, Выигрыш, Золото, Жарить, Пылесос, Почки, Свисток, Чужой, Религия, Сразу, Обладать, Борода, Витамин, Раб, остановить, из-за, чудесный, боюсь, закончить, им, эти, ваш, который, немедленно, нога, ранний, следовало, остановиться, поздний, этот, значит, верх, одолжить, получить, проверить, замужем, нуждаться, открыть, подруга, остаться, ясный, минимум, тогда, над, ей, близко, сюрприз, изучить, предложить, терять, теперь, прекрасный, около, что-нибудь, взять, нам, дать, положить, оставить, сколько, вас, жаркий, уронить, слишком, вы, позволить, привезти, петь, вам, наверху, наружу, ехать, те, от, прийти, закрыть, её, всё, женат, бы, показать, весь, сорок, восемьсот, пять тысяч, три тысячи, пятьсот, двести, четыреста, семьсот, тринадцать, девять, девятьсот, четыре тысячи, две тысячи, триста, миллион, время от 0 ночи до 12 дня, вспомнить, бояться, мыть, свет, найти, обеспокоен, запад, сердитый, жить, шутить, думать, великий, сухой, спросить, спать, сначала, хотеть, знать, цвета, продолжить, холодный, да, мать, доволен, легкий, привык, быть, удивлён, внизу, рад, болит, согласно, купить, играть, изменить, ответить, начать, сквозь, больше, упасть, вверх, приятный, тёплый, уверен, лечь, забыть, меня, принести, тебя, встретить, тяжёлый, обещать, день, кусок, помочь, продать, иметь, назначенное время, октябрь, редко, постоянный, задерживать, канун, затем; потом, ожидающий, запоздалый, 6 часов, поздно, недавний, в спешке, распределять, продлевать, расписание, откладывать, немедленный, время по Гринвичу, день и ночь, между тем, ноябрь, ранее, продолжительность, ежедневный, будущее, днем, по часам, две недели, начинать, вечный, затягивать, выходные, бывший, наконец-то, временный, восход солнца, время для измерений, в настоящее время, в этом году, краткий, декабрь, календарь, 7:45, еще нет, рано, август, в прошлом году, отложить, 2 часа, вечность, дважды, занятый, начало, отложенный, мгновение, неожиданный, предыдущий, в восемь пятнадцать, продление, башенные часы, в то время как, время 11 часов, навсегда, no_event'"
      ]
     },
     "execution_count": 18,
     "metadata": {},
     "output_type": "execute_result"
    }
   ],
   "source": [
    "', '.join(ann['text'].unique().tolist())"
   ]
  },
  {
   "cell_type": "markdown",
   "metadata": {},
   "source": [
    "# Daraset reduction to 100 labels"
   ]
  },
  {
   "cell_type": "code",
   "execution_count": 19,
   "metadata": {},
   "outputs": [],
   "source": [
    "main_gestures = [\n",
    "    \"Привет!\", \"Пока\", \"да\", \"не\", \"благодарность\", \"Я\", \"мать\", \"отец\", \"сын\", \"дочь\",\n",
    "    \"сестра\", \"брат\", \"ребёнок\", \"жена\", \"муж\", \"мужчина\", \"женщина\", \"семья\", \"меня\",\n",
    "    \"тебя\", \"мне\", \"ты\", \"тебе\", \"ваш\", \"утро\", \"день\", \"ночь\", \"год\", \"месяц\", \"сегодня\",\n",
    "    \"завтра\", \"вчера\", \"редко\", \"часто\", \"немного\", \"много\", \"больше\", \"тёплый\", \"холодный\",\n",
    "    \"деньги\", \"цена\", \"дом\", \"работать\", \"школа\", \"магазин\", \"комната\", \"время\",\n",
    "    \"дорога\", \"собака\", \"кошка\", \"попугай\", \"птица\", \"рыба\", \"дикое животное\", \"домашнее животное\",\n",
    "    \"красный\", \"оранжевый\", \"желтый\", \"зелёный\", \"синий\", \"фиолетовый\", \"черный\",\n",
    "    \"белый\", \"серый\", \"бежевый\", \"Золото\", \"серебро\", \"кто?\", \"что\", \"что-нибудь\", \"когда\",\n",
    "    \"который\", \"вода\", \"еда\", \"болит\", \"нуждаться\", \"хотеть\", \"иметь\", \"быть\", \"любить\", \"ждать\",\n",
    "    \"купить\", \"найти\", \"нравиться\", \"говорить\", \"позволить\", \"помочь\", \"терять\", \"добрый\", \"агрессивный\",\n",
    "    \"расстроенный\", \"напуганный\", \"счастливый\", \"сильный\", \"недобрый\", \"красивый\",\n",
    "    \"резервирование; бронирование\", \"кафетерий\", \"женский туалет\", \"мужской туалет\"\n",
    "]"
   ]
  },
  {
   "cell_type": "code",
   "execution_count": 20,
   "metadata": {},
   "outputs": [
    {
     "data": {
      "text/html": [
       "<div>\n",
       "<style scoped>\n",
       "    .dataframe tbody tr th:only-of-type {\n",
       "        vertical-align: middle;\n",
       "    }\n",
       "\n",
       "    .dataframe tbody tr th {\n",
       "        vertical-align: top;\n",
       "    }\n",
       "\n",
       "    .dataframe thead th {\n",
       "        text-align: right;\n",
       "    }\n",
       "</style>\n",
       "<table border=\"1\" class=\"dataframe\">\n",
       "  <thead>\n",
       "    <tr style=\"text-align: right;\">\n",
       "      <th></th>\n",
       "      <th>attachment_id</th>\n",
       "      <th>text</th>\n",
       "      <th>user_id</th>\n",
       "      <th>height</th>\n",
       "      <th>width</th>\n",
       "      <th>length</th>\n",
       "      <th>train</th>\n",
       "    </tr>\n",
       "  </thead>\n",
       "  <tbody>\n",
       "    <tr>\n",
       "      <th>11</th>\n",
       "      <td>5ce6ce8a-d191-47d4-97b4-3fc6f9138a73</td>\n",
       "      <td>я</td>\n",
       "      <td>185bd3a81d9d618518d10abebf0d17a8</td>\n",
       "      <td>1920</td>\n",
       "      <td>1080</td>\n",
       "      <td>91.0</td>\n",
       "      <td>True</td>\n",
       "    </tr>\n",
       "    <tr>\n",
       "      <th>45</th>\n",
       "      <td>c9e2dbd1-ec2f-4382-a80e-5bca8396a9b1</td>\n",
       "      <td>я</td>\n",
       "      <td>46dd04a1caa75ed3082b573cb5a3ad26</td>\n",
       "      <td>1920</td>\n",
       "      <td>1080</td>\n",
       "      <td>58.0</td>\n",
       "      <td>True</td>\n",
       "    </tr>\n",
       "    <tr>\n",
       "      <th>92</th>\n",
       "      <td>3f72244c-7379-4403-b7ee-e1b1b8d78d46</td>\n",
       "      <td>я</td>\n",
       "      <td>db573f94204e56e0cf3fc2ea000e5bdc</td>\n",
       "      <td>1280</td>\n",
       "      <td>720</td>\n",
       "      <td>49.0</td>\n",
       "      <td>True</td>\n",
       "    </tr>\n",
       "    <tr>\n",
       "      <th>110</th>\n",
       "      <td>5adf08e2-4ff6-4183-ba22-446c1cd0b0f8</td>\n",
       "      <td>я</td>\n",
       "      <td>0211b488644476dd0fec656ccb9b74fc</td>\n",
       "      <td>1920</td>\n",
       "      <td>1080</td>\n",
       "      <td>50.0</td>\n",
       "      <td>True</td>\n",
       "    </tr>\n",
       "    <tr>\n",
       "      <th>129</th>\n",
       "      <td>13a148fc-a546-47ab-b5d0-f9d0c3cce1de</td>\n",
       "      <td>я</td>\n",
       "      <td>2d84da20c251acaeb3186642fcb04f2e</td>\n",
       "      <td>1920</td>\n",
       "      <td>1080</td>\n",
       "      <td>27.0</td>\n",
       "      <td>True</td>\n",
       "    </tr>\n",
       "    <tr>\n",
       "      <th>...</th>\n",
       "      <td>...</td>\n",
       "      <td>...</td>\n",
       "      <td>...</td>\n",
       "      <td>...</td>\n",
       "      <td>...</td>\n",
       "      <td>...</td>\n",
       "      <td>...</td>\n",
       "    </tr>\n",
       "    <tr>\n",
       "      <th>20195</th>\n",
       "      <td>74db1174-1314-43c7-bb8a-cc5cce5e2510</td>\n",
       "      <td>редко</td>\n",
       "      <td>f2dc6eab563f93d86629c1cfe479f09d</td>\n",
       "      <td>1440</td>\n",
       "      <td>1440</td>\n",
       "      <td>56.0</td>\n",
       "      <td>False</td>\n",
       "    </tr>\n",
       "    <tr>\n",
       "      <th>20217</th>\n",
       "      <td>5d742908-98ce-4172-bb2f-02f3595860a4</td>\n",
       "      <td>редко</td>\n",
       "      <td>798aa826b6129d33f72f62d4ba60b681</td>\n",
       "      <td>720</td>\n",
       "      <td>1280</td>\n",
       "      <td>61.0</td>\n",
       "      <td>False</td>\n",
       "    </tr>\n",
       "    <tr>\n",
       "      <th>20223</th>\n",
       "      <td>dfe2ff4c-98fa-4ead-b861-f499f570a321</td>\n",
       "      <td>месяц</td>\n",
       "      <td>798aa826b6129d33f72f62d4ba60b681</td>\n",
       "      <td>720</td>\n",
       "      <td>1280</td>\n",
       "      <td>58.0</td>\n",
       "      <td>False</td>\n",
       "    </tr>\n",
       "    <tr>\n",
       "      <th>20230</th>\n",
       "      <td>04856a31-8326-49cb-8e0c-0843c64a1d92</td>\n",
       "      <td>время</td>\n",
       "      <td>798aa826b6129d33f72f62d4ba60b681</td>\n",
       "      <td>720</td>\n",
       "      <td>1280</td>\n",
       "      <td>52.0</td>\n",
       "      <td>False</td>\n",
       "    </tr>\n",
       "    <tr>\n",
       "      <th>20274</th>\n",
       "      <td>f0ac4a5e-c438-4f39-a577-2814f423afa7</td>\n",
       "      <td>вчера</td>\n",
       "      <td>3dd2ce2659aada17b976390004ebe322</td>\n",
       "      <td>1920</td>\n",
       "      <td>886</td>\n",
       "      <td>35.0</td>\n",
       "      <td>False</td>\n",
       "    </tr>\n",
       "  </tbody>\n",
       "</table>\n",
       "<p>2000 rows × 7 columns</p>\n",
       "</div>"
      ],
      "text/plain": [
       "                              attachment_id   text  \\\n",
       "11     5ce6ce8a-d191-47d4-97b4-3fc6f9138a73      я   \n",
       "45     c9e2dbd1-ec2f-4382-a80e-5bca8396a9b1      я   \n",
       "92     3f72244c-7379-4403-b7ee-e1b1b8d78d46      я   \n",
       "110    5adf08e2-4ff6-4183-ba22-446c1cd0b0f8      я   \n",
       "129    13a148fc-a546-47ab-b5d0-f9d0c3cce1de      я   \n",
       "...                                     ...    ...   \n",
       "20195  74db1174-1314-43c7-bb8a-cc5cce5e2510  редко   \n",
       "20217  5d742908-98ce-4172-bb2f-02f3595860a4  редко   \n",
       "20223  dfe2ff4c-98fa-4ead-b861-f499f570a321  месяц   \n",
       "20230  04856a31-8326-49cb-8e0c-0843c64a1d92  время   \n",
       "20274  f0ac4a5e-c438-4f39-a577-2814f423afa7  вчера   \n",
       "\n",
       "                                user_id  height  width  length  train  \n",
       "11     185bd3a81d9d618518d10abebf0d17a8    1920   1080    91.0   True  \n",
       "45     46dd04a1caa75ed3082b573cb5a3ad26    1920   1080    58.0   True  \n",
       "92     db573f94204e56e0cf3fc2ea000e5bdc    1280    720    49.0   True  \n",
       "110    0211b488644476dd0fec656ccb9b74fc    1920   1080    50.0   True  \n",
       "129    2d84da20c251acaeb3186642fcb04f2e    1920   1080    27.0   True  \n",
       "...                                 ...     ...    ...     ...    ...  \n",
       "20195  f2dc6eab563f93d86629c1cfe479f09d    1440   1440    56.0  False  \n",
       "20217  798aa826b6129d33f72f62d4ba60b681     720   1280    61.0  False  \n",
       "20223  798aa826b6129d33f72f62d4ba60b681     720   1280    58.0  False  \n",
       "20230  798aa826b6129d33f72f62d4ba60b681     720   1280    52.0  False  \n",
       "20274  3dd2ce2659aada17b976390004ebe322    1920    886    35.0  False  \n",
       "\n",
       "[2000 rows x 7 columns]"
      ]
     },
     "execution_count": 20,
     "metadata": {},
     "output_type": "execute_result"
    }
   ],
   "source": [
    "ann_100 = ann[ann['text'].isin(main_gestures)]\n",
    "ann_100['text'] = ann_100['text'].map(lambda x: x.lower().replace('!', '').replace('?', ''))\n",
    "ann_100"
   ]
  },
  {
   "cell_type": "code",
   "execution_count": 21,
   "metadata": {},
   "outputs": [],
   "source": [
    "ann_100['text'] = ann_100['text'].map(lambda x: x.lower().replace('благодарность', 'благодарю'))"
   ]
  },
  {
   "cell_type": "code",
   "execution_count": 24,
   "metadata": {},
   "outputs": [],
   "source": [
    "train_files = sorted(glob(os.path.join(TRAIN_DIR, '*')))\n",
    "test_files = sorted(glob(os.path.join(TEST_DIR, '*')))\n",
    "train_files = [video_path for video_path in train_files if video_path.split('\\\\')[-1][:-4] in ann_100['attachment_id'].values]\n",
    "test_files = [video_path for video_path in test_files if video_path.split('\\\\')[-1][:-4] in ann_100['attachment_id'].values]"
   ]
  },
  {
   "cell_type": "code",
   "execution_count": 9,
   "metadata": {},
   "outputs": [
    {
     "name": "stderr",
     "output_type": "stream",
     "text": [
      "100%|██████████| 1500/1500 [00:02<00:00, 679.39it/s]\n"
     ]
    }
   ],
   "source": [
    "import shutil\n",
    "output_directory = 'slovo/train_100'\n",
    "os.makedirs(output_directory, exist_ok=True)\n",
    "\n",
    "# Копирование отфильтрованных видео в новую директорию\n",
    "for video_path in tqdm(train_files):\n",
    "    if os.path.exists(video_path):\n",
    "        shutil.copy(video_path, output_directory)\n",
    "    else:\n",
    "        print(f\"Video {video_path} not found.\")"
   ]
  },
  {
   "cell_type": "code",
   "execution_count": 10,
   "metadata": {},
   "outputs": [
    {
     "name": "stderr",
     "output_type": "stream",
     "text": [
      "100%|██████████| 500/500 [00:05<00:00, 93.59it/s] \n"
     ]
    }
   ],
   "source": [
    "output_directory = 'slovo/test_100'\n",
    "os.makedirs(output_directory, exist_ok=True)\n",
    "\n",
    "# Копирование отфильтрованных видео в новую директорию\n",
    "for video_path in tqdm(test_files):\n",
    "    if os.path.exists(video_path):\n",
    "        shutil.copy(video_path, output_directory)\n",
    "    else:\n",
    "        print(f\"Video {video_path} not found.\")"
   ]
  },
  {
   "cell_type": "code",
   "execution_count": 25,
   "metadata": {},
   "outputs": [],
   "source": [
    "TRAIN_DIR = os.path.join(DATA_DIR, 'train_100')\n",
    "TEST_DIR = os.path.join(DATA_DIR, 'test_100')\n",
    "train_files = sorted(glob(os.path.join(TRAIN_DIR, '*')))\n",
    "test_files = sorted(glob(os.path.join(TEST_DIR, '*')))"
   ]
  },
  {
   "cell_type": "code",
   "execution_count": 26,
   "metadata": {},
   "outputs": [
    {
     "name": "stderr",
     "output_type": "stream",
     "text": [
      "Processing train files:   0%|          | 0/1500 [00:00<?, ?it/s]"
     ]
    },
    {
     "name": "stderr",
     "output_type": "stream",
     "text": [
      "Processing train files: 100%|██████████| 1500/1500 [00:33<00:00, 44.88it/s]\n",
      "Processing test files: 100%|██████████| 500/500 [00:11<00:00, 45.17it/s]\n"
     ]
    }
   ],
   "source": [
    "def get_frame_count(video_path):\n",
    "    # Открыть видео файл\n",
    "    video = cv2.VideoCapture(video_path)\n",
    "    \n",
    "    # Получить количество кадров\n",
    "    frame_count = int(video.get(cv2.CAP_PROP_FRAME_COUNT))\n",
    "    \n",
    "    # Закрыть видео файл\n",
    "    video.release()\n",
    "    \n",
    "    return frame_count\n",
    "\n",
    "frame_counts = {}\n",
    "\n",
    "# Проход по видеофайлам из обучающего набора с прогресс-баром\n",
    "for video_path in tqdm(train_files, desc=\"Processing train files\"):\n",
    "    num_frames = get_frame_count(video_path)\n",
    "    video_id = video_path.split('\\\\')[-1][:-4]\n",
    "    frame_counts[video_id] = num_frames\n",
    "\n",
    "# Проход по видеофайлам из тестового набора с прогресс-баром\n",
    "for video_path in tqdm(test_files, desc=\"Processing test files\"):\n",
    "    num_frames = get_frame_count(video_path)\n",
    "    video_id = video_path.split('\\\\')[-1][:-4]\n",
    "    frame_counts[video_id] = num_frames"
   ]
  },
  {
   "cell_type": "code",
   "execution_count": 27,
   "metadata": {},
   "outputs": [],
   "source": [
    "ann_100['frame_count'] = ann_100['attachment_id'].map(frame_counts)"
   ]
  },
  {
   "cell_type": "code",
   "execution_count": 28,
   "metadata": {},
   "outputs": [
    {
     "data": {
      "image/png": "[encoded data removed]",
      "text/plain": [
       "<Figure size 500x300 with 1 Axes>"
      ]
     },
     "metadata": {},
     "output_type": "display_data"
    }
   ],
   "source": [
    "plt.figure(figsize=(5, 3))\n",
    "plt.hist(ann_100['frame_count'], bins=30, color='darkblue')\n",
    "plt.title('Distribution of Frame Counts')\n",
    "plt.xlabel('Frame Count')\n",
    "plt.ylabel('Frequency')\n",
    "plt.show()"
   ]
  },
  {
   "cell_type": "code",
   "execution_count": 29,
   "metadata": {},
   "outputs": [
    {
     "data": {
      "text/plain": [
       "count    2000.00000\n",
       "mean       45.61800\n",
       "std        11.66225\n",
       "min        18.00000\n",
       "25%        38.00000\n",
       "50%        44.50000\n",
       "75%        52.00000\n",
       "max        95.00000\n",
       "Name: frame_count, dtype: float64"
      ]
     },
     "execution_count": 29,
     "metadata": {},
     "output_type": "execute_result"
    }
   ],
   "source": [
    "ann_100['frame_count'].describe()"
   ]
  },
  {
   "cell_type": "code",
   "execution_count": 30,
   "metadata": {},
   "outputs": [],
   "source": [
    "ann_100['height_width'] = ann_100.apply(lambda row: f\"{row['height']}_{row['width']}\", axis=1)"
   ]
  },
  {
   "cell_type": "code",
   "execution_count": 31,
   "metadata": {},
   "outputs": [
    {
     "data": {
      "image/png": "[encoded data removed]",
      "text/plain": [
       "<Figure size 500x300 with 1 Axes>"
      ]
     },
     "metadata": {},
     "output_type": "display_data"
    }
   ],
   "source": [
    "plt.figure(figsize=(5, 3))\n",
    "ann_100['height_width'].value_counts().plot(kind='bar', color='darkblue')\n",
    "plt.show()"
   ]
  },
  {
   "cell_type": "code",
   "execution_count": 32,
   "metadata": {},
   "outputs": [],
   "source": [
    "ann_100.to_csv('slovo/annotations_100.csv', index=False)"
   ]
  },
  {
   "cell_type": "markdown",
   "metadata": {},
   "source": [
    "# Data spliting"
   ]
  },
  {
   "cell_type": "code",
   "execution_count": 17,
   "metadata": {},
   "outputs": [
    {
     "name": "stderr",
     "output_type": "stream",
     "text": [
      "100%|██████████| 1500/1500 [00:00<00:00, 2132.43it/s]\n"
     ]
    }
   ],
   "source": [
    "NUM_CLASSES = len(ann_100['text'].unique()) # Определение количества классов, включая класс \"no-action\"\n",
    "classes = {label: label_id for label, label_id in zip(ann_100['text'].unique(), range(NUM_CLASSES))} # Создание словаря классов, где каждому классу соответствует уникальный идентификатор\n",
    "\n",
    "ann_train = []\n",
    "\n",
    "for file in tqdm(train_files):\n",
    "    video_id = file.split('\\\\')[-1][:-4] # Извлечение идентификатора видео из имени файла (без расширения)\n",
    "    label = ann_100[ann_100['attachment_id'] == video_id]['text'].to_string(index=False) # Получение метки (label) для текущего видео на основе идентификатора видео\n",
    "    class_id = classes[label]\n",
    "    line = [video_id, class_id]\n",
    "    ann_train.append(line)"
   ]
  },
  {
   "cell_type": "code",
   "execution_count": 18,
   "metadata": {},
   "outputs": [
    {
     "name": "stderr",
     "output_type": "stream",
     "text": [
      "100%|██████████| 500/500 [00:00<00:00, 1378.24it/s]\n"
     ]
    }
   ],
   "source": [
    "ann_test = []\n",
    "\n",
    "for file in tqdm(test_files):\n",
    "    video_id = file.split('\\\\')[-1][:-4] # Извлечение идентификатора видео из имени файла (без расширения)\n",
    "    label = ann_100[ann_100['attachment_id'] == video_id]['text'].to_string(index=False) # Получение метки (label) для текущего видео на основе идентификатора видео\n",
    "    class_id = classes[label]\n",
    "    line = [video_id, class_id]\n",
    "    ann_test.append(line)"
   ]
  },
  {
   "cell_type": "code",
   "execution_count": 19,
   "metadata": {},
   "outputs": [],
   "source": [
    "video_files_train, label_train = zip(*map(lambda x: (x[0], x[1]), ann_train))\n",
    "video_files_test, label_test = zip(*map(lambda x: (x[0], x[1]), ann_test))"
   ]
  },
  {
   "cell_type": "code",
   "execution_count": 24,
   "metadata": {},
   "outputs": [
    {
     "data": {
      "text/plain": [
       "500"
      ]
     },
     "execution_count": 24,
     "metadata": {},
     "output_type": "execute_result"
    }
   ],
   "source": [
    "len(ann_test)"
   ]
  },
  {
   "cell_type": "code",
   "execution_count": 25,
   "metadata": {},
   "outputs": [],
   "source": [
    "video_files_train, video_files_val, label_train, label_val = train_test_split(video_files_train, label_train, test_size=0.2, stratify=label_train, random_state=42)"
   ]
  },
  {
   "cell_type": "code",
   "execution_count": 26,
   "metadata": {},
   "outputs": [
    {
     "data": {
      "text/plain": [
       "array([5, 5, 5, 5, 5, 5, 5, 5, 5, 5, 5, 5, 5, 5, 5, 5, 5, 5, 5, 5, 5, 5,\n",
       "       5, 5, 5, 5, 5, 5, 5, 5, 5, 5, 5, 5, 5, 5, 5, 5, 5, 5, 5, 5, 5, 5,\n",
       "       5, 5, 5, 5, 5, 5, 5, 5, 5, 5, 5, 5, 5, 5, 5, 5, 5, 5, 5, 5, 5, 5,\n",
       "       5, 5, 5, 5, 5, 5, 5, 5, 5, 5, 5, 5, 5, 5, 5, 5, 5, 5, 5, 5, 5, 5,\n",
       "       5, 5, 5, 5, 5, 5, 5, 5, 5, 5, 5, 5], dtype=int64)"
      ]
     },
     "execution_count": 26,
     "metadata": {},
     "output_type": "execute_result"
    }
   ],
   "source": [
    "# Подсчет количества меток каждого класса\n",
    "unique, counts = np.unique(label_test, return_counts=True)\n",
    "counts"
   ]
  },
  {
   "cell_type": "code",
   "execution_count": 27,
   "metadata": {},
   "outputs": [],
   "source": [
    "# Создание DataFrame для тренировочной выборки\n",
    "train_data = pd.DataFrame({\n",
    "    \"video_file\": video_files_train,\n",
    "    \"label\": label_train\n",
    "})\n",
    "\n",
    "# Создание DataFrame для валидационной выборки\n",
    "val_data = pd.DataFrame({\n",
    "    \"video_file\": video_files_val,\n",
    "    \"label\": label_val\n",
    "})\n",
    "\n",
    "# Создание DataFrame для тестовой выборки\n",
    "test_data = pd.DataFrame({\n",
    "    \"video_file\": video_files_test,\n",
    "    \"label\": label_test\n",
    "})\n",
    "\n",
    "class_data = pd.DataFrame(list(classes.items()), columns=['class_name', 'label'])\n",
    "\n",
    "# Сохранение DataFrame в CSV файлы\n",
    "train_data.to_csv(\"train_data_2.csv\", index=False)\n",
    "val_data.to_csv(\"val_data_2.csv\", index=False)\n",
    "test_data.to_csv(\"test_data_2.csv\", index=False)\n",
    "class_data.to_csv(\"class_data_2.csv\", index=False)"
   ]
  },
  {
   "cell_type": "code",
   "execution_count": 34,
   "metadata": {},
   "outputs": [],
   "source": [
    "NUM_CLASSES = len(ann_100['text'].unique()) # Определение количества классов, включая класс \"no-action\"\n",
    "classes = {label: label_id for label, label_id in zip(ann_100['text'].unique(), range(NUM_CLASSES))} # Создание словаря классов, где каждому классу соответствует уникальный идентификатор\n",
    "class_data = pd.DataFrame(list(classes.items()), columns=['class_name', 'label'])\n",
    "class_data.to_csv(\"class_data_3.csv\", index=False)"
   ]
  },
  {
   "cell_type": "code",
   "execution_count": 3,
   "metadata": {},
   "outputs": [],
   "source": [
    "DATA_DIR = 'slovo'\n",
    "TRAIN_DIR = os.path.join(DATA_DIR, 'train_100')\n",
    "TEST_DIR = os.path.join(DATA_DIR, 'test_100')\n",
    "train_files = sorted(glob(os.path.join(TRAIN_DIR, '*')))\n",
    "test_files = sorted(glob(os.path.join(TEST_DIR, '*')))"
   ]
  },
  {
   "cell_type": "code",
   "execution_count": 10,
   "metadata": {},
   "outputs": [
    {
     "name": "stderr",
     "output_type": "stream",
     "text": [
      "Processing train files: 100%|██████████| 1500/1500 [00:18<00:00, 80.89it/s]\n",
      "Processing test files: 100%|██████████| 500/500 [00:06<00:00, 72.52it/s]\n"
     ]
    }
   ],
   "source": [
    "def get_fps_count(video_path):\n",
    "    # Открыть видео файл\n",
    "    video = cv2.VideoCapture(video_path)\n",
    "    \n",
    "    # Получить количество кадров\n",
    "    fps = int(video.get(cv2.CAP_PROP_FPS)) \n",
    "    \n",
    "    # Закрыть видео файл\n",
    "    video.release()\n",
    "    \n",
    "    return fps\n",
    "\n",
    "fps_dict = {}\n",
    "\n",
    "# Проход по видеофайлам из обучающего набора с прогресс-баром\n",
    "for video_path in tqdm(train_files, desc=\"Processing train files\"):\n",
    "    fps = get_fps_count(video_path)\n",
    "    video_id = video_path.split('\\\\')[-1][:-4]\n",
    "    fps_dict[video_id] = fps\n",
    "\n",
    "# Проход по видеофайлам из тестового набора с прогресс-баром\n",
    "for video_path in tqdm(test_files, desc=\"Processing test files\"):\n",
    "    fps = get_fps_count(video_path)\n",
    "    video_id = video_path.split('\\\\')[-1][:-4]\n",
    "    fps_dict[video_id] = fps"
   ]
  },
  {
   "cell_type": "code",
   "execution_count": 11,
   "metadata": {},
   "outputs": [
    {
     "data": {
      "text/html": [
       "<div>\n",
       "<style scoped>\n",
       "    .dataframe tbody tr th:only-of-type {\n",
       "        vertical-align: middle;\n",
       "    }\n",
       "\n",
       "    .dataframe tbody tr th {\n",
       "        vertical-align: top;\n",
       "    }\n",
       "\n",
       "    .dataframe thead th {\n",
       "        text-align: right;\n",
       "    }\n",
       "</style>\n",
       "<table border=\"1\" class=\"dataframe\">\n",
       "  <thead>\n",
       "    <tr style=\"text-align: right;\">\n",
       "      <th></th>\n",
       "      <th>attachment_id</th>\n",
       "      <th>text</th>\n",
       "      <th>user_id</th>\n",
       "      <th>height</th>\n",
       "      <th>width</th>\n",
       "      <th>length</th>\n",
       "      <th>train</th>\n",
       "      <th>frame_count</th>\n",
       "      <th>height_width</th>\n",
       "    </tr>\n",
       "  </thead>\n",
       "  <tbody>\n",
       "    <tr>\n",
       "      <th>0</th>\n",
       "      <td>5ce6ce8a-d191-47d4-97b4-3fc6f9138a73</td>\n",
       "      <td>я</td>\n",
       "      <td>185bd3a81d9d618518d10abebf0d17a8</td>\n",
       "      <td>1920</td>\n",
       "      <td>1080</td>\n",
       "      <td>91.0</td>\n",
       "      <td>True</td>\n",
       "      <td>51</td>\n",
       "      <td>1920_1080</td>\n",
       "    </tr>\n",
       "    <tr>\n",
       "      <th>1</th>\n",
       "      <td>c9e2dbd1-ec2f-4382-a80e-5bca8396a9b1</td>\n",
       "      <td>я</td>\n",
       "      <td>46dd04a1caa75ed3082b573cb5a3ad26</td>\n",
       "      <td>1920</td>\n",
       "      <td>1080</td>\n",
       "      <td>58.0</td>\n",
       "      <td>True</td>\n",
       "      <td>58</td>\n",
       "      <td>1920_1080</td>\n",
       "    </tr>\n",
       "    <tr>\n",
       "      <th>2</th>\n",
       "      <td>3f72244c-7379-4403-b7ee-e1b1b8d78d46</td>\n",
       "      <td>я</td>\n",
       "      <td>db573f94204e56e0cf3fc2ea000e5bdc</td>\n",
       "      <td>1280</td>\n",
       "      <td>720</td>\n",
       "      <td>49.0</td>\n",
       "      <td>True</td>\n",
       "      <td>49</td>\n",
       "      <td>1280_720</td>\n",
       "    </tr>\n",
       "    <tr>\n",
       "      <th>3</th>\n",
       "      <td>5adf08e2-4ff6-4183-ba22-446c1cd0b0f8</td>\n",
       "      <td>я</td>\n",
       "      <td>0211b488644476dd0fec656ccb9b74fc</td>\n",
       "      <td>1920</td>\n",
       "      <td>1080</td>\n",
       "      <td>50.0</td>\n",
       "      <td>True</td>\n",
       "      <td>50</td>\n",
       "      <td>1920_1080</td>\n",
       "    </tr>\n",
       "    <tr>\n",
       "      <th>4</th>\n",
       "      <td>13a148fc-a546-47ab-b5d0-f9d0c3cce1de</td>\n",
       "      <td>я</td>\n",
       "      <td>2d84da20c251acaeb3186642fcb04f2e</td>\n",
       "      <td>1920</td>\n",
       "      <td>1080</td>\n",
       "      <td>27.0</td>\n",
       "      <td>True</td>\n",
       "      <td>27</td>\n",
       "      <td>1920_1080</td>\n",
       "    </tr>\n",
       "    <tr>\n",
       "      <th>...</th>\n",
       "      <td>...</td>\n",
       "      <td>...</td>\n",
       "      <td>...</td>\n",
       "      <td>...</td>\n",
       "      <td>...</td>\n",
       "      <td>...</td>\n",
       "      <td>...</td>\n",
       "      <td>...</td>\n",
       "      <td>...</td>\n",
       "    </tr>\n",
       "    <tr>\n",
       "      <th>1995</th>\n",
       "      <td>74db1174-1314-43c7-bb8a-cc5cce5e2510</td>\n",
       "      <td>редко</td>\n",
       "      <td>f2dc6eab563f93d86629c1cfe479f09d</td>\n",
       "      <td>1440</td>\n",
       "      <td>1440</td>\n",
       "      <td>56.0</td>\n",
       "      <td>False</td>\n",
       "      <td>56</td>\n",
       "      <td>1440_1440</td>\n",
       "    </tr>\n",
       "    <tr>\n",
       "      <th>1996</th>\n",
       "      <td>5d742908-98ce-4172-bb2f-02f3595860a4</td>\n",
       "      <td>редко</td>\n",
       "      <td>798aa826b6129d33f72f62d4ba60b681</td>\n",
       "      <td>720</td>\n",
       "      <td>1280</td>\n",
       "      <td>61.0</td>\n",
       "      <td>False</td>\n",
       "      <td>61</td>\n",
       "      <td>720_1280</td>\n",
       "    </tr>\n",
       "    <tr>\n",
       "      <th>1997</th>\n",
       "      <td>dfe2ff4c-98fa-4ead-b861-f499f570a321</td>\n",
       "      <td>месяц</td>\n",
       "      <td>798aa826b6129d33f72f62d4ba60b681</td>\n",
       "      <td>720</td>\n",
       "      <td>1280</td>\n",
       "      <td>58.0</td>\n",
       "      <td>False</td>\n",
       "      <td>58</td>\n",
       "      <td>720_1280</td>\n",
       "    </tr>\n",
       "    <tr>\n",
       "      <th>1998</th>\n",
       "      <td>04856a31-8326-49cb-8e0c-0843c64a1d92</td>\n",
       "      <td>время</td>\n",
       "      <td>798aa826b6129d33f72f62d4ba60b681</td>\n",
       "      <td>720</td>\n",
       "      <td>1280</td>\n",
       "      <td>52.0</td>\n",
       "      <td>False</td>\n",
       "      <td>52</td>\n",
       "      <td>720_1280</td>\n",
       "    </tr>\n",
       "    <tr>\n",
       "      <th>1999</th>\n",
       "      <td>f0ac4a5e-c438-4f39-a577-2814f423afa7</td>\n",
       "      <td>вчера</td>\n",
       "      <td>3dd2ce2659aada17b976390004ebe322</td>\n",
       "      <td>1920</td>\n",
       "      <td>886</td>\n",
       "      <td>35.0</td>\n",
       "      <td>False</td>\n",
       "      <td>35</td>\n",
       "      <td>1920_886</td>\n",
       "    </tr>\n",
       "  </tbody>\n",
       "</table>\n",
       "<p>2000 rows × 9 columns</p>\n",
       "</div>"
      ],
      "text/plain": [
       "                             attachment_id   text  \\\n",
       "0     5ce6ce8a-d191-47d4-97b4-3fc6f9138a73      я   \n",
       "1     c9e2dbd1-ec2f-4382-a80e-5bca8396a9b1      я   \n",
       "2     3f72244c-7379-4403-b7ee-e1b1b8d78d46      я   \n",
       "3     5adf08e2-4ff6-4183-ba22-446c1cd0b0f8      я   \n",
       "4     13a148fc-a546-47ab-b5d0-f9d0c3cce1de      я   \n",
       "...                                    ...    ...   \n",
       "1995  74db1174-1314-43c7-bb8a-cc5cce5e2510  редко   \n",
       "1996  5d742908-98ce-4172-bb2f-02f3595860a4  редко   \n",
       "1997  dfe2ff4c-98fa-4ead-b861-f499f570a321  месяц   \n",
       "1998  04856a31-8326-49cb-8e0c-0843c64a1d92  время   \n",
       "1999  f0ac4a5e-c438-4f39-a577-2814f423afa7  вчера   \n",
       "\n",
       "                               user_id  height  width  length  train  \\\n",
       "0     185bd3a81d9d618518d10abebf0d17a8    1920   1080    91.0   True   \n",
       "1     46dd04a1caa75ed3082b573cb5a3ad26    1920   1080    58.0   True   \n",
       "2     db573f94204e56e0cf3fc2ea000e5bdc    1280    720    49.0   True   \n",
       "3     0211b488644476dd0fec656ccb9b74fc    1920   1080    50.0   True   \n",
       "4     2d84da20c251acaeb3186642fcb04f2e    1920   1080    27.0   True   \n",
       "...                                ...     ...    ...     ...    ...   \n",
       "1995  f2dc6eab563f93d86629c1cfe479f09d    1440   1440    56.0  False   \n",
       "1996  798aa826b6129d33f72f62d4ba60b681     720   1280    61.0  False   \n",
       "1997  798aa826b6129d33f72f62d4ba60b681     720   1280    58.0  False   \n",
       "1998  798aa826b6129d33f72f62d4ba60b681     720   1280    52.0  False   \n",
       "1999  3dd2ce2659aada17b976390004ebe322    1920    886    35.0  False   \n",
       "\n",
       "      frame_count height_width  \n",
       "0              51    1920_1080  \n",
       "1              58    1920_1080  \n",
       "2              49     1280_720  \n",
       "3              50    1920_1080  \n",
       "4              27    1920_1080  \n",
       "...           ...          ...  \n",
       "1995           56    1440_1440  \n",
       "1996           61     720_1280  \n",
       "1997           58     720_1280  \n",
       "1998           52     720_1280  \n",
       "1999           35     1920_886  \n",
       "\n",
       "[2000 rows x 9 columns]"
      ]
     },
     "execution_count": 11,
     "metadata": {},
     "output_type": "execute_result"
    }
   ],
   "source": [
    "ann_100 = pd.read_csv(os.path.join(DATA_DIR, 'annotations_100.csv'))\n",
    "ann_100"
   ]
  },
  {
   "cell_type": "code",
   "execution_count": 13,
   "metadata": {},
   "outputs": [],
   "source": [
    "ann_100['fps'] = ann_100['attachment_id'].map(fps_dict)"
   ]
  },
  {
   "cell_type": "code",
   "execution_count": 14,
   "metadata": {},
   "outputs": [
    {
     "data": {
      "text/plain": [
       "30"
      ]
     },
     "execution_count": 14,
     "metadata": {},
     "output_type": "execute_result"
    }
   ],
   "source": [
    "fps"
   ]
  },
  {
   "cell_type": "code",
   "execution_count": 16,
   "metadata": {},
   "outputs": [
    {
     "data": {
      "text/plain": [
       "fps\n",
       "30    2000\n",
       "Name: count, dtype: int64"
      ]
     },
     "execution_count": 16,
     "metadata": {},
     "output_type": "execute_result"
    }
   ],
   "source": [
    "ann_100['fps'].value_counts()"
   ]
  }
 ],
 "metadata": {
  "kernelspec": {
   "display_name": "it_academy_fp",
   "language": "python",
   "name": "python3"
  },
  "language_info": {
   "codemirror_mode": {
    "name": "ipython",
    "version": 3
   },
   "file_extension": ".py",
   "mimetype": "text/x-python",
   "name": "python",
   "nbconvert_exporter": "python",
   "pygments_lexer": "ipython3",
   "version": "3.11.9"
  }
 },
 "nbformat": 4,
 "nbformat_minor": 2
}
